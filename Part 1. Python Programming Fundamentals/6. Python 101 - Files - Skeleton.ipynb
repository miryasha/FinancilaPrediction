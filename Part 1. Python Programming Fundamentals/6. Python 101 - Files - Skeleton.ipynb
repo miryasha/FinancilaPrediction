{
 "cells": [
  {
   "cell_type": "markdown",
   "metadata": {
    "colab_type": "text",
    "id": "iLfi8gKMoAd6"
   },
   "source": [
    "# 1. TEXT FILES"
   ]
  },
  {
   "cell_type": "markdown",
   "metadata": {
    "colab_type": "text",
    "id": "r2IjrNQmoFxC"
   },
   "source": [
    "- open() is the key function to handle files \n",
    "- open() function takes two parameters: (1) filename (2) mode.\n",
    "- Modes for files opening: \n",
    "\n",
    "    - \"r\" - Read - Default value. Opens a file for reading, error if the file does not exist\n",
    "    - \"a\" - Append - Opens a file for appending, creates the file if it does not exist\n",
    "    - \"w\" - Write - Opens a file for writing, creates the file if it does not exist\n",
    "    - \"x\" - Create - Creates the specified file, returns an error if the file exists\n",
    "\n",
    "- files can be used in a binary or text mode\n",
    "\n",
    "    - \"t\" - Text - Default value. Text mode\n",
    "    - \"b\" - Binary - Binary mode (e.g. images)"
   ]
  },
  {
   "cell_type": "code",
   "execution_count": null,
   "metadata": {
    "colab": {},
    "colab_type": "code",
    "id": "xEbqa95ArXlE"
   },
   "outputs": [],
   "source": [
    "# In order to access data on Google Drive, you need to mount the drive to access it's content\n"
   ]
  },
  {
   "cell_type": "code",
   "execution_count": null,
   "metadata": {
    "colab": {},
    "colab_type": "code",
    "id": "zqk6rO37oC_g"
   },
   "outputs": [],
   "source": [
    "# Open and read text file\n"
   ]
  },
  {
   "cell_type": "code",
   "execution_count": null,
   "metadata": {
    "colab": {},
    "colab_type": "code",
    "id": "m1596TUCoInJ"
   },
   "outputs": [],
   "source": [
    "# readline will be used to read the first line\n"
   ]
  },
  {
   "cell_type": "code",
   "execution_count": null,
   "metadata": {
    "colab": {},
    "colab_type": "code",
    "id": "-2Y52n0UoIpX"
   },
   "outputs": [],
   "source": [
    "# You can open the file and append content to it\n"
   ]
  },
  {
   "cell_type": "code",
   "execution_count": null,
   "metadata": {
    "colab": {},
    "colab_type": "code",
    "id": "6twyC3vfoIrU"
   },
   "outputs": [],
   "source": [
    "# close the file and let's check its content\n"
   ]
  },
  {
   "cell_type": "code",
   "execution_count": null,
   "metadata": {
    "colab": {},
    "colab_type": "code",
    "id": "sEQ6zDLaoOga"
   },
   "outputs": [],
   "source": [
    "# Let's open the updated file after writing new content to it\n"
   ]
  },
  {
   "cell_type": "code",
   "execution_count": null,
   "metadata": {
    "colab": {},
    "colab_type": "code",
    "id": "HqnHR33noOiZ"
   },
   "outputs": [],
   "source": []
  },
  {
   "cell_type": "code",
   "execution_count": null,
   "metadata": {
    "colab": {},
    "colab_type": "code",
    "id": "GJAfep33oOke"
   },
   "outputs": [],
   "source": [
    "# split into a list of words\n",
    "\n"
   ]
  },
  {
   "cell_type": "markdown",
   "metadata": {
    "colab_type": "text",
    "id": "_9ihcna1v0Y9"
   },
   "source": [
    "**MINI CHALLENGE #1:**\n",
    "- **Read the file 'fruits_input.txt'**\n",
    "- **compare the text file content to the list my_fruits = [\"Apple\", \"Pepper\", \"Orange\", \"Watermelon\", \"Tomatoes\"]**\n"
   ]
  },
  {
   "cell_type": "code",
   "execution_count": null,
   "metadata": {
    "colab": {},
    "colab_type": "code",
    "id": "FwqzbVBhx5Se"
   },
   "outputs": [],
   "source": []
  },
  {
   "cell_type": "code",
   "execution_count": null,
   "metadata": {
    "colab": {},
    "colab_type": "code",
    "id": "iL0yRBfyMD6F"
   },
   "outputs": [],
   "source": []
  },
  {
   "cell_type": "code",
   "execution_count": null,
   "metadata": {
    "colab": {},
    "colab_type": "code",
    "id": "ZMZDbtbGMD8k"
   },
   "outputs": [],
   "source": []
  },
  {
   "cell_type": "code",
   "execution_count": null,
   "metadata": {
    "colab": {},
    "colab_type": "code",
    "id": "GSIATnQxMyFR"
   },
   "outputs": [],
   "source": []
  },
  {
   "cell_type": "markdown",
   "metadata": {
    "colab_type": "text",
    "id": "mVEBiOmtnCp4"
   },
   "source": [
    "# 2. CSV FILES"
   ]
  },
  {
   "cell_type": "code",
   "execution_count": null,
   "metadata": {
    "colab": {},
    "colab_type": "code",
    "id": "C6-0bqrqmZS-"
   },
   "outputs": [],
   "source": [
    "# you can read csv files using \"csv.reader\"\n",
    "\n"
   ]
  },
  {
   "cell_type": "code",
   "execution_count": null,
   "metadata": {
    "colab": {},
    "colab_type": "code",
    "id": "JlyWKV6fmng9"
   },
   "outputs": [],
   "source": [
    "# Let's view the data\n"
   ]
  },
  {
   "cell_type": "code",
   "execution_count": null,
   "metadata": {
    "colab": {},
    "colab_type": "code",
    "id": "SuYdDHQpnZxL"
   },
   "outputs": [],
   "source": [
    "# Let's view the first row\n"
   ]
  },
  {
   "cell_type": "code",
   "execution_count": null,
   "metadata": {
    "colab": {},
    "colab_type": "code",
    "id": "iPiq2lkMnbjW"
   },
   "outputs": [],
   "source": [
    "# Let's view the second row\n"
   ]
  },
  {
   "cell_type": "code",
   "execution_count": null,
   "metadata": {
    "colab": {},
    "colab_type": "code",
    "id": "1EbBeptqm1XY"
   },
   "outputs": [],
   "source": [
    "# Combine first and last names together to generate full_name\n"
   ]
  },
  {
   "cell_type": "code",
   "execution_count": null,
   "metadata": {
    "colab": {},
    "colab_type": "code",
    "id": "gD3H86PLm3FO"
   },
   "outputs": [],
   "source": []
  },
  {
   "cell_type": "code",
   "execution_count": null,
   "metadata": {
    "colab": {},
    "colab_type": "code",
    "id": "cjLRTZfcm5_I"
   },
   "outputs": [],
   "source": []
  },
  {
   "cell_type": "code",
   "execution_count": null,
   "metadata": {
    "colab": {},
    "colab_type": "code",
    "id": "wTXefzJAm6Wv"
   },
   "outputs": [],
   "source": []
  },
  {
   "cell_type": "markdown",
   "metadata": {
    "colab_type": "text",
    "id": "fxYxNeqJxEmR"
   },
   "source": [
    "**MINI CHALLENGE #2:**\n",
    "- **Read the CSV file entitled \"S&P500_Stock_data.csv\" and print out the heading**\n",
    "- **Print out the first 5 rows of data**\n"
   ]
  },
  {
   "cell_type": "code",
   "execution_count": null,
   "metadata": {
    "colab": {},
    "colab_type": "code",
    "id": "yzmHo9AHxhff"
   },
   "outputs": [],
   "source": []
  },
  {
   "cell_type": "code",
   "execution_count": null,
   "metadata": {
    "colab": {},
    "colab_type": "code",
    "id": "5gflv-5oQSQg"
   },
   "outputs": [],
   "source": []
  },
  {
   "cell_type": "code",
   "execution_count": null,
   "metadata": {
    "colab": {},
    "colab_type": "code",
    "id": "um4wsztKQSSx"
   },
   "outputs": [],
   "source": []
  },
  {
   "cell_type": "code",
   "execution_count": null,
   "metadata": {
    "colab": {},
    "colab_type": "code",
    "id": "AvkJGqpPQSOi"
   },
   "outputs": [],
   "source": []
  },
  {
   "cell_type": "code",
   "execution_count": null,
   "metadata": {
    "colab": {},
    "colab_type": "code",
    "id": "HGXN70DvQt7k"
   },
   "outputs": [],
   "source": []
  },
  {
   "cell_type": "markdown",
   "metadata": {
    "colab_type": "text",
    "id": "1YIpbzx8wrYj"
   },
   "source": [
    "# EXCELLENT JOB!"
   ]
  },
  {
   "cell_type": "markdown",
   "metadata": {
    "colab_type": "text",
    "id": "JOWd-_I8xlze"
   },
   "source": [
    "# MINI CHALLENGE SOLUTIONS:\n"
   ]
  },
  {
   "cell_type": "markdown",
   "metadata": {
    "colab_type": "text",
    "id": "PiBxzSjVxr4u"
   },
   "source": [
    "**MINI CHALLENGE #1:**\n",
    "- **Read the file 'fruits_input.txt'**\n",
    "- **compare the text file content to the list my_fruits = [\"Apple\", \"Pepper\", \"Orange\", \"Watermelon\", \"Tomatoes\"]**"
   ]
  },
  {
   "cell_type": "code",
   "execution_count": null,
   "metadata": {
    "colab": {},
    "colab_type": "code",
    "id": "45oMJBA2xvC5"
   },
   "outputs": [],
   "source": [
    "my_fruits = [\"Apple\", \"Pepper\", \"Orange\", \"Watermelon\", \"Tomatoes\"]\n",
    "\n",
    "with open(\"/content/drive/My Drive/Colab Notebooks/Python & ML in Finance/Part 1. Python Programming Fundamentals/fruits_input.txt\", \"r\") as file:\n",
    "    all_fruits = file.readlines()\n",
    "\n",
    "all_fruits = [char.rstrip('\\n') for char in all_fruits]\n",
    "Selected_fruits = [i for i in all_fruits if i in my_fruits]\n",
    "\n",
    "print(Selected_fruits)\n"
   ]
  },
  {
   "cell_type": "markdown",
   "metadata": {
    "colab_type": "text",
    "id": "E-Ab25tzxuQU"
   },
   "source": [
    "**MINI CHALLENGE #2:**\n",
    "- **Read the CSV file entitled \"S&P500_Stock_data.csv\" and print out the heading**\n",
    "- **Print out the first 5 rows of data**"
   ]
  },
  {
   "cell_type": "code",
   "execution_count": null,
   "metadata": {
    "colab": {},
    "colab_type": "code",
    "id": "RKGDASZTxVYK"
   },
   "outputs": [],
   "source": [
    "import csv\n",
    "with open(\"/content/drive/My Drive/Colab Notebooks/Python & ML in Finance/Part 1. Python Programming Fundamentals/S&P500_Stock_Data.csv\", \"r\") as csvfile:\n",
    "    readCSV = csv.reader(csvfile, delimiter=',')\n",
    "    stock = list(readCSV)\n",
    "    "
   ]
  },
  {
   "cell_type": "code",
   "execution_count": null,
   "metadata": {
    "colab": {},
    "colab_type": "code",
    "id": "f38DGWN6xXz7"
   },
   "outputs": [],
   "source": [
    "print(stock)"
   ]
  },
  {
   "cell_type": "code",
   "execution_count": null,
   "metadata": {
    "colab": {},
    "colab_type": "code",
    "id": "H6wfbUS4xX2Y"
   },
   "outputs": [],
   "source": [
    "print(stock[0])"
   ]
  },
  {
   "cell_type": "code",
   "execution_count": null,
   "metadata": {
    "colab": {},
    "colab_type": "code",
    "id": "vPW5JHLExaJG"
   },
   "outputs": [],
   "source": [
    "selected = []\n",
    "for row in stock[1:6]:\n",
    "    selected.append(row)"
   ]
  },
  {
   "cell_type": "code",
   "execution_count": null,
   "metadata": {
    "colab": {},
    "colab_type": "code",
    "id": "X7R2RDmkxaLQ"
   },
   "outputs": [],
   "source": [
    "selected"
   ]
  },
  {
   "cell_type": "code",
   "execution_count": null,
   "metadata": {
    "colab": {},
    "colab_type": "code",
    "id": "yfrWoZwxwojy"
   },
   "outputs": [],
   "source": []
  }
 ],
 "metadata": {
  "colab": {
   "collapsed_sections": [],
   "name": "6. Python 101 - Files - Skeleton.ipynb",
   "provenance": []
  },
  "kernelspec": {
   "display_name": "Python 3 (ipykernel)",
   "language": "python",
   "name": "python3"
  },
  "language_info": {
   "codemirror_mode": {
    "name": "ipython",
    "version": 3
   },
   "file_extension": ".py",
   "mimetype": "text/x-python",
   "name": "python",
   "nbconvert_exporter": "python",
   "pygments_lexer": "ipython3",
   "version": "3.9.13"
  }
 },
 "nbformat": 4,
 "nbformat_minor": 1
}
